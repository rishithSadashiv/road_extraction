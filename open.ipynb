{
 "cells": [
  {
   "cell_type": "code",
   "execution_count": 24,
   "metadata": {},
   "outputs": [],
   "source": [
    "from water import watershed,sharpen,auto_canny,blobdetect\n",
    "import numpy as np\n",
    "import cv2"
   ]
  },
  {
   "cell_type": "code",
   "execution_count": 81,
   "metadata": {},
   "outputs": [],
   "source": [
    "# frame2 = cv2.imread('dataset/img3.jpg') #img load local_dataset\n",
    "# frame2 = cv2.imread('local_dataset/apmc_yard.png')\n",
    "# frame2 = cv2.imread('local_dataset/batawadi_higway.png')\n",
    "# frame2 = cv2.imread('local_dataset/hemavathi.png')\n",
    "# frame2 = cv2.imread('local_dataset/hemavathi_river.png')\n",
    "# frame2 = cv2.imread('local_dataset/hemavathi2.png')\n",
    "# frame2 = cv2.imread('local_dataset/hemavathi3.png')\n",
    "# frame2 = cv2.imread('local_dataset/kaver5.png')\n",
    "# frame2 = cv2.imread('local_dataset/kaveri.png')\n",
    "# frame2 = cv2.imread('local_dataset/kaveri2.png')\n",
    "# frame2 = cv2.imread('local_dataset/kaveri3.png')\n",
    "# frame2 = cv2.imread('local_dataset/kaveri4.png')\n",
    "# frame2 = cv2.imread('local_dataset/kaveri6.png')\n",
    "# frame2 = cv2.imread('local_dataset/shivkscircle.png')\n",
    "# frame2 = cv2.imread('local_dataset/shivkumar_swamiji_circle.png')\n",
    "# frame2 = cv2.imread('local_dataset/shivkumarswamijicircle_bhuvan.png')\n",
    "# frame2 = cv2.imread('local_dataset/tumkur.png')\n",
    "frame2 = cv2.imread('local_dataset/tumkur2.png')\n",
    "\n",
    "sharped=sharpen(frame2)\n",
    "\n",
    "frame=cv2.medianBlur(frame2,5)\n",
    "#black=cv2.cvtColor(frame,cv2.COLOR_BGR2GRAY)\n",
    "hsv = cv2.cvtColor(frame, cv2.COLOR_BGR2HSV)\n",
    "\n",
    "Z = frame.reshape((-1,3))\n",
    "\n",
    "# convert to np.float32\n",
    "Z = np.float32(Z)\n",
    "\n",
    "# define criteria, number of clusters(K) and apply kmeans()\n",
    "criteria = (cv2.TERM_CRITERIA_EPS + cv2.TERM_CRITERIA_MAX_ITER, 10, 1.0)\n",
    "K = 20"
   ]
  },
  {
   "cell_type": "code",
   "execution_count": 82,
   "metadata": {},
   "outputs": [
    {
     "name": "stdout",
     "output_type": "stream",
     "text": [
      "47270752.84271588\n",
      "here\n"
     ]
    }
   ],
   "source": [
    "ret,label,center=cv2.kmeans(Z,K,None,criteria,10,cv2.KMEANS_RANDOM_CENTERS)\n",
    "\n",
    "# Now convert back into uint8, and make original image\n",
    "center = np.uint8(center)\n",
    "print(ret)\n",
    "resd = center[label.flatten()]\n",
    "resd2 = resd.reshape((frame.shape))\n",
    "cluster=resd2\n",
    "resd2=cv2.cvtColor(resd2,cv2.COLOR_BGR2GRAY)\n",
    "#retval, resd2 = cv2.threshold(resd2, 150, 255, cv2.THRESH_BINARY)\n",
    "\n",
    "\n",
    "#resd2=cv2.medianBlur(resd2,5)\n",
    "sharpcluster=sharpen(resd2)\n",
    "\n",
    "##########################################canny edge####################################################\n",
    "edges = cv2.Canny(frame,400,600)\n",
    "#edges2=cv2.Canny(img_dilation,249,250)\n",
    "edges3=cv2.Canny(resd,200,260)\n",
    "edgesharped=auto_canny(sharpcluster)\n",
    "###########################################smoothen kmeans output##################################################\n",
    "smoothmeans=cv2.GaussianBlur(resd2,(5,5),0)\n",
    "##########################################################histogram equalisation##########################################\n",
    "equ = cv2.equalizeHist(resd2)\n",
    "\n",
    "####################################BLOBDETECT######################\n",
    "final=blobdetect(equ)"
   ]
  },
  {
   "cell_type": "code",
   "execution_count": 83,
   "metadata": {},
   "outputs": [],
   "source": [
    "\n",
    "# cv2.imshow(\"input image\",frame2)\n",
    "# cv2.imshow(\"GaussianBlur output\",frame)\n",
    "# cv2.imshow(\"clustering\",cluster)\n",
    "# cv2.imshow(\"histogram\",equ)\n",
    "# cv2.imshow(\"contour output\",final)\n",
    "# final.shape\n",
    "# cv2.imshow(\"grey conversion\",resd2)\n",
    "retval, threshold = cv2.threshold(final, 220, 255, cv2.THRESH_BINARY)\n",
    "cv2.imshow(\"final\",threshold)\n",
    "#watershed(threshold)\n",
    "\n",
    "img2 = np.zeros_like(frame2)\n",
    "img2[:,:,2] = threshold\n",
    "added_image = cv2.addWeighted(frame2,0.9,img2,0.9,0)\n",
    "cv2.imshow(\"new\", img2)\n",
    "cv2.imshow(\"input image\",frame2)\n",
    "cv2.imshow(\"GaussianBlur output\",frame)\n",
    "cv2.imshow(\"clustering\",cluster)\n",
    "cv2.imshow(\"histogram\",equ)\n",
    "cv2.imshow(\"contour output\",final)\n",
    "cv2.imshow(\"roads recognised\", added_image)\n",
    "\n",
    "#.imshow('log',laplacian)\n",
    "k = cv2.waitKey(0) & 0xFF\n",
    "cv2.destroyAllWindows()"
   ]
  },
  {
   "cell_type": "code",
   "execution_count": null,
   "metadata": {},
   "outputs": [],
   "source": []
  },
  {
   "cell_type": "code",
   "execution_count": null,
   "metadata": {},
   "outputs": [],
   "source": []
  },
  {
   "cell_type": "code",
   "execution_count": null,
   "metadata": {},
   "outputs": [],
   "source": []
  }
 ],
 "metadata": {
  "kernelspec": {
   "display_name": "Python 3",
   "language": "python",
   "name": "python3"
  },
  "language_info": {
   "codemirror_mode": {
    "name": "ipython",
    "version": 3
   },
   "file_extension": ".py",
   "mimetype": "text/x-python",
   "name": "python",
   "nbconvert_exporter": "python",
   "pygments_lexer": "ipython3",
   "version": "3.8.3"
  }
 },
 "nbformat": 4,
 "nbformat_minor": 4
}
